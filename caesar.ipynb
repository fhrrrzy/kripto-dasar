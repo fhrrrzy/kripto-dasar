{
 "cells": [
  {
   "cell_type": "markdown",
   "metadata": {},
   "source": [
    "# Caesar chiper"
   ]
  },
  {
   "cell_type": "markdown",
   "metadata": {},
   "source": [
    "### import string untuk menggunakan fungsi string (a - z)"
   ]
  },
  {
   "cell_type": "code",
   "execution_count": 1,
   "metadata": {},
   "outputs": [],
   "source": [
    "import string"
   ]
  },
  {
   "cell_type": "markdown",
   "metadata": {},
   "source": [
    "### bangkitkan array A-Z"
   ]
  },
  {
   "cell_type": "code",
   "execution_count": 2,
   "metadata": {},
   "outputs": [
    {
     "name": "stdout",
     "output_type": "stream",
     "text": [
      "['A', 'B', 'C', 'D', 'E', 'F', 'G', 'H', 'I', 'J', 'K', 'L', 'M', 'N', 'O', 'P', 'Q', 'R', 'S', 'T', 'U', 'V', 'W', 'X', 'Y', 'Z']\n"
     ]
    }
   ],
   "source": [
    "normal = string.ascii_uppercase\n",
    "normal = [*normal]\n",
    "print(normal)"
   ]
  },
  {
   "cell_type": "markdown",
   "metadata": {},
   "source": [
    "### set key dan plain, lalu lakukan perhitungan "
   ]
  },
  {
   "cell_type": "code",
   "execution_count": 3,
   "metadata": {},
   "outputs": [
    {
     "name": "stdout",
     "output_type": "stream",
     "text": [
      "PENYELEWENGAN DALAM HAL PENYALURAN BARANG BARANG\n",
      "HWFQWDWOWFYSF VSDSE ZSD HWFQSDMJSF TSJSFY TSJSFY\n"
     ]
    }
   ],
   "source": [
    "plain = \"penyelewengan dalam hal penyaluran barang barang\".upper()\n",
    "print(plain)\n",
    "plain = [*plain]\n",
    "key = 18\n",
    "chiper = []\n",
    "\n",
    "\n",
    "for i in plain:\n",
    "    if i == \" \":\n",
    "        chiper.append(\" \")\n",
    "    else:\n",
    "        x = normal.index(i) + key\n",
    "        if x < 0: x + 26\n",
    "        else: x = x\n",
    "        z = x%26\n",
    "        chiper.append(normal[z]) \n",
    "    \n",
    "print(''.join(chiper))"
   ]
  },
  {
   "cell_type": "markdown",
   "metadata": {},
   "source": [
    "### Dekripsi"
   ]
  },
  {
   "cell_type": "code",
   "execution_count": 24,
   "metadata": {},
   "outputs": [
    {
     "name": "stdout",
     "output_type": "stream",
     "text": [
      "UNIVERSITAS NEGERI MEDAN\n"
     ]
    }
   ],
   "source": [
    "newplain = []\n",
    "chiper = \"Jrex Brzjri Uzslely Fcvy Rerbepr\".upper()\n",
    "chiper = \"\".join(chiper)\n",
    "for i in range(26):\n",
    "    for i in chiper:\n",
    "        if i == \" \":\n",
    "            newplain.append(\" \")\n",
    "        else:\n",
    "            x = normal.index(i) - key\n",
    "            if x < 0: x + 26\n",
    "            else: x = x\n",
    "            z = x%26\n",
    "            newplain.append(normal[z]) \n",
    "\n",
    "    print(''.join(newplain), i)\n",
    "    newplain = \"\"\n"
   ]
  }
 ],
 "metadata": {
  "kernelspec": {
   "display_name": "Python 3.7.8 64-bit",
   "language": "python",
   "name": "python3"
  },
  "language_info": {
   "codemirror_mode": {
    "name": "ipython",
    "version": 3
   },
   "file_extension": ".py",
   "mimetype": "text/x-python",
   "name": "python",
   "nbconvert_exporter": "python",
   "pygments_lexer": "ipython3",
   "version": "3.7.8"
  },
  "orig_nbformat": 4,
  "vscode": {
   "interpreter": {
    "hash": "a25db058ff7a7d67f5a38740de04ac56e7edab14c01cdddec5aab28669483277"
   }
  }
 },
 "nbformat": 4,
 "nbformat_minor": 2
}
