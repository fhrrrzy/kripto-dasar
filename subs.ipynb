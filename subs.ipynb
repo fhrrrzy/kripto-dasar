{
 "cells": [
  {
   "cell_type": "markdown",
   "metadata": {},
   "source": [
    "# Subtitusi chiper"
   ]
  },
  {
   "cell_type": "markdown",
   "metadata": {},
   "source": [
    "### import string untuk menggunakan fungsi string (yakali ngetik a - z atuh pak XD)"
   ]
  },
  {
   "cell_type": "code",
   "execution_count": 1,
   "metadata": {},
   "outputs": [],
   "source": [
    "import string"
   ]
  },
  {
   "cell_type": "markdown",
   "metadata": {},
   "source": [
    "### bangkitkan array A-Z"
   ]
  },
  {
   "cell_type": "code",
   "execution_count": 2,
   "metadata": {},
   "outputs": [
    {
     "name": "stdout",
     "output_type": "stream",
     "text": [
      "['A', 'B', 'C', 'D', 'E', 'F', 'G', 'H', 'I', 'J', 'K', 'L', 'M', 'N', 'O', 'P', 'Q', 'R', 'S', 'T', 'U', 'V', 'W', 'X', 'Y', 'Z']\n"
     ]
    }
   ],
   "source": [
    "normal = string.ascii_uppercase\n",
    "normal = [*normal]\n",
    "print(normal)"
   ]
  },
  {
   "cell_type": "markdown",
   "metadata": {},
   "source": [
    "### fungsi generate array pembanding dengan parameter array asli, a = key,  dan inverse "
   ]
  },
  {
   "cell_type": "code",
   "execution_count": 7,
   "metadata": {},
   "outputs": [],
   "source": [
    "def pair(arr, key, reverse=False):\n",
    "    if reverse:\n",
    "        pair_arr = arr[::-1]\n",
    "    else:\n",
    "        pair_arr = arr\n",
    "\n",
    "    index_key = pair_arr.index(key)\n",
    "    to_insert = pair_arr[index_key:]\n",
    "    [pair_arr.remove(i) for i in to_insert]\n",
    "    pair_arr = to_insert + pair_arr\n",
    "    return pair_arr\n",
    "    "
   ]
  },
  {
   "cell_type": "markdown",
   "metadata": {},
   "source": [
    "### set key, plain text, dan apakah inverse, lalu panggil fungsi generate array pembanding"
   ]
  },
  {
   "cell_type": "code",
   "execution_count": 8,
   "metadata": {},
   "outputs": [
    {
     "name": "stdout",
     "output_type": "stream",
     "text": [
      "['H', 'G', 'F', 'E', 'D', 'C', 'B', 'A', 'Z', 'Y', 'X', 'W', 'V', 'U', 'T', 'S', 'R', 'Q', 'P', 'O', 'N', 'M', 'L', 'K', 'J', 'I']\n"
     ]
    }
   ],
   "source": [
    "key = 'H' \n",
    "plain = \"UNIVERSITAS NEGERI MEDAN\"\n",
    "inverse = True #apakah inverse ?\n",
    "pair_arr = pair(normal, key.upper(), inverse)\n",
    "print(pair_arr)"
   ]
  },
  {
   "cell_type": "markdown",
   "metadata": {},
   "source": [
    "### ambil huruf pada array pembanding berdasarkan posisi huruf pada array asli"
   ]
  },
  {
   "cell_type": "code",
   "execution_count": 9,
   "metadata": {},
   "outputs": [
    {
     "name": "stdout",
     "output_type": "stream",
     "text": [
      "NUZMDQPZOHP UDBDQZ VDEHU\n"
     ]
    }
   ],
   "source": [
    "plain = [*plain]\n",
    "normal = string.ascii_uppercase\n",
    "normal = [*normal]\n",
    "chiper = [\" \" if i == \" \" else pair_arr[normal.index(i)] for i in plain]\n",
    "chiper = ''.join(chiper)\n",
    "print(chiper)"
   ]
  },
  {
   "cell_type": "markdown",
   "metadata": {},
   "source": [
    "### dekripsi (opsional)"
   ]
  },
  {
   "cell_type": "code",
   "execution_count": 59,
   "metadata": {},
   "outputs": [
    {
     "name": "stdout",
     "output_type": "stream",
     "text": [
      "BIZGKFXIRWZ\n"
     ]
    }
   ],
   "source": [
    "chiper = 'GZIBXCKZQLI'\n",
    "chiper = [*chiper]\n",
    "plain = [\" \" if i == \" \" else normal[pair_arr.index(i)] for i in chiper]\n",
    "plain = ''.join(plain)\n",
    "print(plain)"
   ]
  }
 ],
 "metadata": {
  "kernelspec": {
   "display_name": "Python 3.7.8 64-bit",
   "language": "python",
   "name": "python3"
  },
  "language_info": {
   "codemirror_mode": {
    "name": "ipython",
    "version": 3
   },
   "file_extension": ".py",
   "mimetype": "text/x-python",
   "name": "python",
   "nbconvert_exporter": "python",
   "pygments_lexer": "ipython3",
   "version": "3.7.8"
  },
  "orig_nbformat": 4,
  "vscode": {
   "interpreter": {
    "hash": "a25db058ff7a7d67f5a38740de04ac56e7edab14c01cdddec5aab28669483277"
   }
  }
 },
 "nbformat": 4,
 "nbformat_minor": 2
}
